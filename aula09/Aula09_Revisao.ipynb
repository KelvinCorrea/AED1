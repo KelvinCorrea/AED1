{
 "cells": [
  {
   "cell_type": "markdown",
   "metadata": {},
   "source": [
    "![Algoritmos e Estrutura de Dados I](AED1_banner.jpg)"
   ]
  },
  {
   "cell_type": "markdown",
   "metadata": {},
   "source": [
    "## <font color='blue'>Algoritmos e Estrutura de Dados I</font>\n",
    "## <font color='blue'>Aula 9 -  Revisão</font>"
   ]
  },
  {
   "cell_type": "code",
   "execution_count": 1,
   "metadata": {},
   "outputs": [
    {
     "name": "stdout",
     "output_type": "stream",
     "text": [
      "Versão da Linguagem Python Usada Neste Jupyter Notebook: 3.12.4\n"
     ]
    }
   ],
   "source": [
    "# Versão da Linguagem Python\n",
    "from platform import python_version\n",
    "print('Versão da Linguagem Python Usada Neste Jupyter Notebook:', python_version())"
   ]
  },
  {
   "cell_type": "markdown",
   "metadata": {},
   "source": [
    "## Estrutura sequencial"
   ]
  },
  {
   "cell_type": "markdown",
   "metadata": {},
   "source": [
    "Escreva um programa em Python que solicite ao usuário o valor de dois números, calcule e exiba a soma deles."
   ]
  },
  {
   "cell_type": "code",
   "execution_count": 3,
   "metadata": {},
   "outputs": [
    {
     "name": "stdin",
     "output_type": "stream",
     "text": [
      "Escreva um número:  3\n",
      " Escreva outro número: 3\n"
     ]
    },
    {
     "name": "stdout",
     "output_type": "stream",
     "text": [
      " O resultado da soma é: 6\n"
     ]
    }
   ],
   "source": [
    "num1 = int(input(\"Escreva um número: \"))\n",
    "num2 = int(input(\" Escreva outro número:\"))\n",
    "resultado = num1 + num2\n",
    "print(F\" O resultado da soma é: {resultado}\")"
   ]
  },
  {
   "attachments": {},
   "cell_type": "markdown",
   "metadata": {},
   "source": [
    "Escreva um programa em Python que solicite ao usuário a temperatura em graus Celsius e converta para Fahrenheit. A fórmula para conversão é F = C * 9/5 + 32.\n"
   ]
  },
  {
   "cell_type": "code",
   "execution_count": 6,
   "metadata": {},
   "outputs": [
    {
     "name": "stdin",
     "output_type": "stream",
     "text": [
      "Digite a temperatura em graus:  40\n"
     ]
    },
    {
     "name": "stdout",
     "output_type": "stream",
     "text": [
      "A temperatura em Farenheit é: 104.0\n"
     ]
    }
   ],
   "source": [
    "temp_graus = float(input(\"Digite a temperatura em graus: \"))\n",
    "temp_fahrenheit = temp_graus * 9/5 + 32\n",
    "print(F\"A temperatura em Farenheit é: {temp_fahrenheit}\")\n"
   ]
  },
  {
   "cell_type": "markdown",
   "metadata": {},
   "source": [
    "## Estrutura Condicional"
   ]
  },
  {
   "cell_type": "markdown",
   "metadata": {},
   "source": [
    "Escreva um programa em Python que solicite ao usuário um número e verifique se ele é positivo, negativo ou zero. Exiba a mensagem correspondente.\n"
   ]
  },
  {
   "cell_type": "code",
   "execution_count": 12,
   "metadata": {},
   "outputs": [
    {
     "name": "stdin",
     "output_type": "stream",
     "text": [
      "Insira um número:  0\n"
     ]
    },
    {
     "name": "stdout",
     "output_type": "stream",
     "text": [
      " esse número é zero\n"
     ]
    }
   ],
   "source": [
    "num = float(input(\"Insira um número: \"))\n",
    "if (num == 0):\n",
    "    print(\" esse número é zero\")\n",
    "elif (num > 0):\n",
    "    print(\"Esse número é positivo\")\n",
    "else:\n",
    "    print(\"Esse número é negativo.\")\n",
    "\n"
   ]
  },
  {
   "cell_type": "markdown",
   "metadata": {},
   "source": [
    "Escreva um programa em Python que solicite ao usuário três números e determine qual é o maior entre eles.\n"
   ]
  },
  {
   "cell_type": "code",
   "execution_count": 15,
   "metadata": {},
   "outputs": [
    {
     "name": "stdin",
     "output_type": "stream",
     "text": [
      "Digite o primeiro número:  2\n",
      "Digite o segundo número:  20\n",
      "Digite o terceiro número:  200\n"
     ]
    },
    {
     "name": "stdout",
     "output_type": "stream",
     "text": [
      "O maior número é: 200.0\n"
     ]
    }
   ],
   "source": [
    "\"\"\"num1 = int(input(\"Escreva um número:\"))\n",
    "num2 = int(input(\"Escreva outro número:\"))\n",
    "num3 = int(input(\"Escreva outro número:\"))\n",
    "\n",
    "if (num1 > num2):\n",
    "    print(\"num1 é o maior\", num1)\n",
    "elif(num2 > num1):\n",
    "    print(\"num2 é o maior\", num2)\n",
    "else:\n",
    "    print(\"num3 é o maior\", num3)\"\"\"\n",
    "\n",
    "# Solicita ao usuário que insira três números\n",
    "num1 = float(input(\"Digite o primeiro número: \"))\n",
    "num2 = float(input(\"Digite o segundo número: \"))\n",
    "num3 = float(input(\"Digite o terceiro número: \"))\n",
    "\n",
    "# Determina qual número é o maior\n",
    "if num1 > num2 and num1 > num3:\n",
    "    maior = num1\n",
    "elif num2 > num1 and num2 > num3:\n",
    "    maior = num2\n",
    "else:\n",
    "    maior = num3\n",
    "\n",
    "# Exibe o maior número\n",
    "print(f\"O maior número é: {maior}\")\n"
   ]
  },
  {
   "cell_type": "markdown",
   "metadata": {},
   "source": [
    "## Estrutura de Repetição"
   ]
  },
  {
   "cell_type": "markdown",
   "metadata": {},
   "source": [
    "Escreva um programa em Python que exiba todos os números de 1 a 10.\n"
   ]
  },
  {
   "cell_type": "code",
   "execution_count": 16,
   "metadata": {},
   "outputs": [
    {
     "name": "stdout",
     "output_type": "stream",
     "text": [
      "1\n",
      "2\n",
      "3\n",
      "4\n",
      "5\n",
      "6\n",
      "7\n",
      "8\n",
      "9\n",
      "10\n"
     ]
    }
   ],
   "source": [
    "# Usando um loop for para exibir os números de 1 a 10\n",
    "for numero in range(1, 11):\n",
    "    print(numero)\n",
    "\n"
   ]
  },
  {
   "cell_type": "markdown",
   "metadata": {},
   "source": [
    "Escreva um programa em Python que solicite ao usuário um número inteiro positivo e calcule o fatorial desse número.\n"
   ]
  },
  {
   "cell_type": "code",
   "execution_count": null,
   "metadata": {},
   "outputs": [],
   "source": [
    "# Solicita ao usuário que insira um número inteiro positivo\n",
    "numero = int(input(\"Digite um número inteiro positivo: \"))\n",
    "\n",
    "# Verifica se o número é positivo\n",
    "if numero < 0:\n",
    "    print(\"O número deve ser positivo.\")\n",
    "else:\n",
    "    fatorial = 1\n",
    "    \n",
    "    # Calcula o fatorial usando um loop\n",
    "    for i in range(1, numero + 1):\n",
    "        fatorial *= i\n",
    "    \n",
    "    # Exibe o fatorial do número\n",
    "    print(f\"O fatorial de {numero} é: {fatorial}\")\n",
    "\n"
   ]
  },
  {
   "cell_type": "markdown",
   "metadata": {},
   "source": [
    "## Geral"
   ]
  },
  {
   "cell_type": "markdown",
   "metadata": {},
   "source": [
    "Você é um cientista de dados e precisa analisar as notas de um conjunto de estudantes em uma disciplina. Você deverá escrever um programa em Python que solicite ao usuário o número de estudantes e, em seguida, as notas desses estudantes. O programa deve calcular e exibir:\n",
    "\n",
    "- A média das notas.\n",
    "- A maior e a menor nota.\n",
    "- O número de estudantes aprovados (nota maior ou igual a 6) e reprovados (nota menor que 6).\n",
    "\n",
    "Regras:\n",
    "\n",
    "- Utilize variáveis simples para armazenar as informações.\n",
    "- Utilize estruturas de repetição para coletar as notas dos estudantes.\n",
    "- Utilize estruturas condicionais para determinar o status de aprovação dos estudantes."
   ]
  },
  {
   "cell_type": "code",
   "execution_count": 17,
   "metadata": {},
   "outputs": [
    {
     "name": "stdin",
     "output_type": "stream",
     "text": [
      "Digite o número de estudantes:  37\n",
      "Digite a nota do estudante 1:  7\n",
      "Digite a nota do estudante 2:  6\n",
      "Digite a nota do estudante 3:  9\n",
      "Digite a nota do estudante 4:  10\n",
      "Digite a nota do estudante 5:  5\n",
      "Digite a nota do estudante 6:  2\n",
      "Digite a nota do estudante 7:  1\n",
      "Digite a nota do estudante 8:  0\n",
      "Digite a nota do estudante 9:  7\n",
      "Digite a nota do estudante 10:  10\n",
      "Digite a nota do estudante 11:  5\n",
      "Digite a nota do estudante 12:  6\n",
      "Digite a nota do estudante 13:  4\n",
      "Digite a nota do estudante 14:  9\n",
      "Digite a nota do estudante 15:  5\n",
      "Digite a nota do estudante 16:  6\n",
      "Digite a nota do estudante 17:  7\n",
      "Digite a nota do estudante 18:  8\n",
      "Digite a nota do estudante 19:  10\n",
      "Digite a nota do estudante 20:  3\n",
      "Digite a nota do estudante 21:  5\n",
      "Digite a nota do estudante 22:  6\n",
      "Digite a nota do estudante 23:  6\n",
      "Digite a nota do estudante 24:  9\n",
      "Digite a nota do estudante 25:  6\n",
      "Digite a nota do estudante 26:  9\n",
      "Digite a nota do estudante 27:  4\n",
      "Digite a nota do estudante 28:  7\n",
      "Digite a nota do estudante 29:  4\n",
      "Digite a nota do estudante 30:  3\n",
      "Digite a nota do estudante 31:  6\n",
      "Digite a nota do estudante 32:  5\n",
      "Digite a nota do estudante 33:  7\n",
      "Digite a nota do estudante 34:  8\n",
      "Digite a nota do estudante 35:  10\n",
      "Digite a nota do estudante 36:  5\n",
      "Digite a nota do estudante 37:  2\n"
     ]
    },
    {
     "name": "stdout",
     "output_type": "stream",
     "text": [
      "\n",
      "Resultados:\n",
      "Média das notas: 6.00\n",
      "Maior nota: 10.0\n",
      "Menor nota: 0.0\n",
      "Estudantes aprovados: 22\n",
      "Estudantes reprovados: 15\n"
     ]
    }
   ],
   "source": [
    "\n",
    "# Solicita o número de estudantes\n",
    "num_estudantes = int(input(\"Digite o número de estudantes: \"))\n",
    "\n",
    "# Inicializa variáveis para armazenar as informações\n",
    "soma_notas = 0\n",
    "maior_nota = -1\n",
    "menor_nota = 11\n",
    "aprovados = 0\n",
    "reprovados = 0\n",
    "\n",
    "# Coleta as notas e realiza os cálculos\n",
    "for i in range(1, num_estudantes + 1):\n",
    "    nota = float(input(f\"Digite a nota do estudante {i}: \"))\n",
    "    \n",
    "    # Soma das notas para o cálculo da média\n",
    "    soma_notas += nota\n",
    "    \n",
    "    # Verifica a maior e a menor nota\n",
    "    if nota > maior_nota:\n",
    "        maior_nota = nota\n",
    "    if nota < menor_nota:\n",
    "        menor_nota = nota\n",
    "    \n",
    "    # Verifica se o estudante foi aprovado ou reprovado\n",
    "    if nota >= 6:\n",
    "        aprovados += 1\n",
    "    else:\n",
    "        reprovados += 1\n",
    "\n",
    "# Calcula a média das notas\n",
    "media = soma_notas / num_estudantes\n",
    "\n",
    "# Exibe os resultados\n",
    "print(f\"\\nResultados:\")\n",
    "print(f\"Média das notas: {media:.2f}\")\n",
    "print(f\"Maior nota: {maior_nota}\")\n",
    "print(f\"Menor nota: {menor_nota}\")\n",
    "print(f\"Estudantes aprovados: {aprovados}\")\n",
    "print(f\"Estudantes reprovados: {reprovados}\")\n"
   ]
  },
  {
   "cell_type": "markdown",
   "metadata": {},
   "source": [
    "Faça um programa que receba um número inteiro positivo e transforme esse número para binário."
   ]
  },
  {
   "cell_type": "code",
   "execution_count": null,
   "metadata": {},
   "outputs": [],
   "source": [
    "# Solicita ao usuário um número inteiro positivo\n",
    "numero = int(input(\"Digite um número inteiro positivo: \"))\n",
    "\n",
    "# Verifica se o número é positivo\n",
    "if numero < 0:\n",
    "    print(\"O número deve ser positivo.\")\n",
    "else:\n",
    "    # Converte o número para binário usando a função bin() e remove o prefixo '0b'\n",
    "    binario = bin(numero)[2:]\n",
    "    \n",
    "    # Exibe o número em binário\n",
    "    print(f\"O número {numero} em binário é: {binario}\")\n"
   ]
  },
  {
   "cell_type": "markdown",
   "metadata": {},
   "source": [
    "## Fim da Aula 9"
   ]
  }
 ],
 "metadata": {
  "kernelspec": {
   "display_name": "Python 3 (ipykernel)",
   "language": "python",
   "name": "python3"
  },
  "language_info": {
   "codemirror_mode": {
    "name": "ipython",
    "version": 3
   },
   "file_extension": ".py",
   "mimetype": "text/x-python",
   "name": "python",
   "nbconvert_exporter": "python",
   "pygments_lexer": "ipython3",
   "version": "3.12.4"
  }
 },
 "nbformat": 4,
 "nbformat_minor": 4
}
