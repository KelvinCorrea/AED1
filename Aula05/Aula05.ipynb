{
 "cells": [
  {
   "cell_type": "code",
   "execution_count": 2,
   "id": "fd74b90f-e203-43f3-b32b-3797df8613a0",
   "metadata": {},
   "outputs": [
    {
     "name": "stdout",
     "output_type": "stream",
     "text": [
      "hello,world!\n"
     ]
    }
   ],
   "source": [
    "print('hello,world!')\n"
   ]
  },
  {
   "cell_type": "code",
   "execution_count": 3,
   "id": "d589bfb1-c86f-4709-8a8a-08a2aef7ad64",
   "metadata": {},
   "outputs": [
    {
     "data": {
      "text/plain": [
       "10"
      ]
     },
     "execution_count": 3,
     "metadata": {},
     "output_type": "execute_result"
    }
   ],
   "source": [
    "5 + 5\n"
   ]
  },
  {
   "cell_type": "code",
   "execution_count": 4,
   "id": "d2b6f454-70ad-4131-92b7-d342acf6b039",
   "metadata": {},
   "outputs": [],
   "source": [
    "nome = 'kelvin'"
   ]
  },
  {
   "cell_type": "code",
   "execution_count": 5,
   "id": "8bbb9514-95c1-4050-89ae-9103fddeebee",
   "metadata": {},
   "outputs": [
    {
     "data": {
      "text/plain": [
       "'kelvin'"
      ]
     },
     "execution_count": 5,
     "metadata": {},
     "output_type": "execute_result"
    }
   ],
   "source": [
    "nome"
   ]
  },
  {
   "cell_type": "code",
   "execution_count": 6,
   "id": "c95532ae-78cb-4108-a2c1-c9d8117073ad",
   "metadata": {},
   "outputs": [
    {
     "name": "stdout",
     "output_type": "stream",
     "text": [
      "kelvin\n"
     ]
    }
   ],
   "source": [
    "print(nome)\n"
   ]
  },
  {
   "cell_type": "code",
   "execution_count": 7,
   "id": "8b1394d6-ea6d-4416-8b1e-356d27035cab",
   "metadata": {},
   "outputs": [],
   "source": [
    "x = 345"
   ]
  },
  {
   "cell_type": "code",
   "execution_count": 9,
   "id": "77a3ada1-9873-4e01-999e-ce09ed1ec915",
   "metadata": {},
   "outputs": [],
   "source": [
    "y = x + 2"
   ]
  },
  {
   "cell_type": "code",
   "execution_count": 10,
   "id": "ebe3da0f-494c-470b-95e6-f2466075e14c",
   "metadata": {},
   "outputs": [
    {
     "data": {
      "text/plain": [
       "347"
      ]
     },
     "execution_count": 10,
     "metadata": {},
     "output_type": "execute_result"
    }
   ],
   "source": [
    "y\n"
   ]
  },
  {
   "cell_type": "code",
   "execution_count": 15,
   "id": "02880dce-00c8-4d52-992e-41875cb613f8",
   "metadata": {},
   "outputs": [],
   "source": [
    "a = 5"
   ]
  },
  {
   "cell_type": "code",
   "execution_count": 18,
   "id": "55c55f9c-f36b-4224-9f0c-c589032d2831",
   "metadata": {},
   "outputs": [
    {
     "data": {
      "text/plain": [
       "str"
      ]
     },
     "execution_count": 18,
     "metadata": {},
     "output_type": "execute_result"
    }
   ],
   "source": [
    "type('a')"
   ]
  },
  {
   "cell_type": "code",
   "execution_count": 20,
   "id": "9437e5b0-b08b-48b7-9970-3df265878cf4",
   "metadata": {},
   "outputs": [],
   "source": [
    "a = True"
   ]
  },
  {
   "cell_type": "code",
   "execution_count": 22,
   "id": "e715d4a3-9202-4524-9a03-759b582a07bc",
   "metadata": {},
   "outputs": [
    {
     "data": {
      "text/plain": [
       "bool"
      ]
     },
     "execution_count": 22,
     "metadata": {},
     "output_type": "execute_result"
    }
   ],
   "source": [
    "type(a)"
   ]
  },
  {
   "cell_type": "code",
   "execution_count": 23,
   "id": "a5884a73-1a22-49a8-9e48-f241a29ec6fb",
   "metadata": {},
   "outputs": [],
   "source": [
    "a = 5.8"
   ]
  },
  {
   "cell_type": "code",
   "execution_count": 24,
   "id": "0c09069a-adf2-4d07-85a3-675891973a8d",
   "metadata": {},
   "outputs": [
    {
     "data": {
      "text/plain": [
       "float"
      ]
     },
     "execution_count": 24,
     "metadata": {},
     "output_type": "execute_result"
    }
   ],
   "source": [
    "type(a)\n"
   ]
  },
  {
   "cell_type": "code",
   "execution_count": 40,
   "id": "a8218aa5-5e9e-4f4d-928c-0a801cfdc9f3",
   "metadata": {},
   "outputs": [],
   "source": [
    "x = 45\n",
    "y = 23"
   ]
  },
  {
   "cell_type": "code",
   "execution_count": 27,
   "id": "24728d5e-b928-4a64-bc27-d5a901b9b362",
   "metadata": {},
   "outputs": [
    {
     "data": {
      "text/plain": [
       "68"
      ]
     },
     "execution_count": 27,
     "metadata": {},
     "output_type": "execute_result"
    }
   ],
   "source": [
    "x + y"
   ]
  },
  {
   "cell_type": "code",
   "execution_count": 28,
   "id": "eaec189c-0fc2-4733-8696-757252286c19",
   "metadata": {},
   "outputs": [],
   "source": [
    "soma = x + 5"
   ]
  },
  {
   "cell_type": "code",
   "execution_count": 29,
   "id": "02ce51b7-acbe-4cf5-99a4-b6bb70649c31",
   "metadata": {},
   "outputs": [
    {
     "data": {
      "text/plain": [
       "int"
      ]
     },
     "execution_count": 29,
     "metadata": {},
     "output_type": "execute_result"
    }
   ],
   "source": [
    "type(soma)"
   ]
  },
  {
   "cell_type": "code",
   "execution_count": 30,
   "id": "7d6eec6d-712b-45dd-8a2e-30012caa3213",
   "metadata": {},
   "outputs": [
    {
     "name": "stdout",
     "output_type": "stream",
     "text": [
      "50\n"
     ]
    }
   ],
   "source": [
    "print(soma)"
   ]
  },
  {
   "cell_type": "code",
   "execution_count": 31,
   "id": "937ed534-8cfd-4074-9868-f68f792342a1",
   "metadata": {},
   "outputs": [
    {
     "data": {
      "text/plain": [
       "1.9565217391304348"
      ]
     },
     "execution_count": 31,
     "metadata": {},
     "output_type": "execute_result"
    }
   ],
   "source": [
    "x / y"
   ]
  },
  {
   "cell_type": "code",
   "execution_count": 32,
   "id": "deff75fe-9943-4635-88b9-10686ac368bc",
   "metadata": {},
   "outputs": [
    {
     "data": {
      "text/plain": [
       "1"
      ]
     },
     "execution_count": 32,
     "metadata": {},
     "output_type": "execute_result"
    }
   ],
   "source": [
    "x // y"
   ]
  },
  {
   "cell_type": "code",
   "execution_count": 34,
   "id": "3b15b40e-eaaf-4b8a-b63d-822a79716feb",
   "metadata": {},
   "outputs": [
    {
     "data": {
      "text/plain": [
       "22"
      ]
     },
     "execution_count": 34,
     "metadata": {},
     "output_type": "execute_result"
    }
   ],
   "source": [
    "x % y"
   ]
  },
  {
   "cell_type": "code",
   "execution_count": 37,
   "id": "7906db09-401e-4f99-b053-c091ace535eb",
   "metadata": {},
   "outputs": [
    {
     "data": {
      "text/plain": [
       "3102863559971923828125"
      ]
     },
     "execution_count": 37,
     "metadata": {},
     "output_type": "execute_result"
    }
   ],
   "source": [
    "x **13"
   ]
  },
  {
   "cell_type": "code",
   "execution_count": 49,
   "id": "e73d053e-708c-46f0-8753-26fd909809f6",
   "metadata": {},
   "outputs": [],
   "source": [
    "y = 4.9"
   ]
  },
  {
   "cell_type": "code",
   "execution_count": 46,
   "id": "2110fa25-0e83-41f4-81e8-4a4cd37faf15",
   "metadata": {},
   "outputs": [
    {
     "data": {
      "text/plain": [
       "4"
      ]
     },
     "execution_count": 46,
     "metadata": {},
     "output_type": "execute_result"
    }
   ],
   "source": [
    "int(y)"
   ]
  },
  {
   "cell_type": "code",
   "execution_count": 50,
   "id": "4e5b53b9-e812-4e85-bd35-9e7a5546919b",
   "metadata": {},
   "outputs": [
    {
     "data": {
      "text/plain": [
       "float"
      ]
     },
     "execution_count": 50,
     "metadata": {},
     "output_type": "execute_result"
    }
   ],
   "source": [
    "type(y)"
   ]
  },
  {
   "cell_type": "code",
   "execution_count": 51,
   "id": "123a85a7-59ba-4479-8194-1b5410605ec8",
   "metadata": {},
   "outputs": [],
   "source": [
    "soma = x + y\n",
    "divisao = x / y "
   ]
  },
  {
   "cell_type": "code",
   "execution_count": 42,
   "id": "a65c4e85-4a34-4a9d-9dd3-45e5765db591",
   "metadata": {},
   "outputs": [
    {
     "data": {
      "text/plain": [
       "float"
      ]
     },
     "execution_count": 42,
     "metadata": {},
     "output_type": "execute_result"
    }
   ],
   "source": [
    "type(divisao)"
   ]
  },
  {
   "cell_type": "code",
   "execution_count": 43,
   "id": "81caa214-0c96-4365-ab49-f0b4cd87335b",
   "metadata": {},
   "outputs": [
    {
     "data": {
      "text/plain": [
       "int"
      ]
     },
     "execution_count": 43,
     "metadata": {},
     "output_type": "execute_result"
    }
   ],
   "source": [
    "type(soma)"
   ]
  },
  {
   "cell_type": "code",
   "execution_count": 52,
   "id": "0b2b15a3-5d1e-41c6-8a37-90e3caf012ad",
   "metadata": {},
   "outputs": [],
   "source": [
    "x = True "
   ]
  },
  {
   "cell_type": "code",
   "execution_count": 53,
   "id": "c8ff892e-b530-4912-9140-206cc4f447a8",
   "metadata": {},
   "outputs": [],
   "source": [
    "y = False"
   ]
  },
  {
   "cell_type": "code",
   "execution_count": 54,
   "id": "cf18efda-29ac-4935-90ed-fccac8905b90",
   "metadata": {},
   "outputs": [
    {
     "data": {
      "text/plain": [
       "False"
      ]
     },
     "execution_count": 54,
     "metadata": {},
     "output_type": "execute_result"
    }
   ],
   "source": [
    "x and y"
   ]
  },
  {
   "cell_type": "code",
   "execution_count": 55,
   "id": "8d5485dd-f6fd-48b4-a466-03868272e0c0",
   "metadata": {},
   "outputs": [
    {
     "data": {
      "text/plain": [
       "True"
      ]
     },
     "execution_count": 55,
     "metadata": {},
     "output_type": "execute_result"
    }
   ],
   "source": [
    "x or y"
   ]
  },
  {
   "cell_type": "code",
   "execution_count": 57,
   "id": "ddd539ef-8fd9-44ed-b4a3-9bcdbdb7527c",
   "metadata": {},
   "outputs": [
    {
     "data": {
      "text/plain": [
       "False"
      ]
     },
     "execution_count": 57,
     "metadata": {},
     "output_type": "execute_result"
    }
   ],
   "source": [
    "not x"
   ]
  },
  {
   "cell_type": "code",
   "execution_count": 58,
   "id": "93ffc7b4-7d14-4e45-bd6e-5e37fa92e2cc",
   "metadata": {},
   "outputs": [],
   "source": [
    "nome = 'kelvin'"
   ]
  },
  {
   "cell_type": "code",
   "execution_count": 59,
   "id": "c9f31bec-d5e8-4627-b25d-397beb3f3466",
   "metadata": {},
   "outputs": [
    {
     "data": {
      "text/plain": [
       "str"
      ]
     },
     "execution_count": 59,
     "metadata": {},
     "output_type": "execute_result"
    }
   ],
   "source": [
    "type(nome)\n"
   ]
  },
  {
   "cell_type": "code",
   "execution_count": 60,
   "id": "849d97b7-543d-4e4a-a39c-d456345c75c5",
   "metadata": {},
   "outputs": [],
   "source": [
    "sobrenome = 'Corrêa'"
   ]
  },
  {
   "cell_type": "code",
   "execution_count": 71,
   "id": "700cf829-8a24-48a8-9dc2-141bc798a8e6",
   "metadata": {},
   "outputs": [
    {
     "ename": "SyntaxError",
     "evalue": "invalid syntax (3505292110.py, line 1)",
     "output_type": "error",
     "traceback": [
      "\u001b[1;36m  Cell \u001b[1;32mIn[71], line 1\u001b[1;36m\u001b[0m\n\u001b[1;33m    nome_completo = nome + '' sobrenome\u001b[0m\n\u001b[1;37m                              ^\u001b[0m\n\u001b[1;31mSyntaxError\u001b[0m\u001b[1;31m:\u001b[0m invalid syntax\n"
     ]
    }
   ],
   "source": [
    "nome_completo = nome + '' sobrenome"
   ]
  },
  {
   "cell_type": "code",
   "execution_count": 69,
   "id": "6e011e3d-e9ca-4750-b29b-fd815bcb1bf2",
   "metadata": {},
   "outputs": [
    {
     "data": {
      "text/plain": [
       "'k'"
      ]
     },
     "execution_count": 69,
     "metadata": {},
     "output_type": "execute_result"
    }
   ],
   "source": [
    "nome[0]\n",
    "\n"
   ]
  },
  {
   "cell_type": "code",
   "execution_count": 70,
   "id": "ccda9b8b-eb03-491a-9c9b-6dd88f422777",
   "metadata": {},
   "outputs": [
    {
     "name": "stdout",
     "output_type": "stream",
     "text": [
      "('kelvin', 'Corrêa')\n"
     ]
    }
   ],
   "source": [
    "print(nome_completo)"
   ]
  }
 ],
 "metadata": {
  "kernelspec": {
   "display_name": "Python 3 (ipykernel)",
   "language": "python",
   "name": "python3"
  },
  "language_info": {
   "codemirror_mode": {
    "name": "ipython",
    "version": 3
   },
   "file_extension": ".py",
   "mimetype": "text/x-python",
   "name": "python",
   "nbconvert_exporter": "python",
   "pygments_lexer": "ipython3",
   "version": "3.12.4"
  }
 },
 "nbformat": 4,
 "nbformat_minor": 5
}
